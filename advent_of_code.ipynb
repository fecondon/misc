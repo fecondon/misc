{
 "cells": [
  {
   "cell_type": "code",
   "execution_count": 177,
   "id": "54ed86ec",
   "metadata": {},
   "outputs": [],
   "source": [
    "import pandas as pd\n",
    "import os\n",
    "import matplotlib.pyplot as plt\n",
    "import seaborn as sns\n",
    "import numpy as np\n",
    "import re\n",
    "import collections"
   ]
  },
  {
   "cell_type": "markdown",
   "id": "8a8a7bd2",
   "metadata": {},
   "source": [
    "# Day 1 - Task 1"
   ]
  },
  {
   "cell_type": "code",
   "execution_count": 62,
   "id": "ed311c08",
   "metadata": {},
   "outputs": [],
   "source": [
    "code = 0\n",
    "with open('advent_day1_input.txt') as f:\n",
    "    count = 0\n",
    "    for i in f.readlines():\n",
    "        count += 1\n",
    "        code += parse_line(i)"
   ]
  },
  {
   "cell_type": "code",
   "execution_count": 63,
   "id": "7490334e",
   "metadata": {},
   "outputs": [],
   "source": [
    "def parse_line(txt):\n",
    "    nums = [x for x in txt]\n",
    "    nums = list(filter(lambda x: x.isnumeric(), nums))\n",
    "    nums = nums[0] + nums[-1]\n",
    "    return int(nums)"
   ]
  },
  {
   "cell_type": "code",
   "execution_count": 136,
   "id": "4dc2f16f",
   "metadata": {},
   "outputs": [
    {
     "data": {
      "text/plain": [
       "99"
      ]
     },
     "execution_count": 136,
     "metadata": {},
     "output_type": "execute_result"
    }
   ],
   "source": [
    "text = 'fivefourfourhvgfqrqst99'\n",
    "parse_line(text)"
   ]
  },
  {
   "cell_type": "code",
   "execution_count": 66,
   "id": "f2b2d882",
   "metadata": {},
   "outputs": [
    {
     "data": {
      "text/plain": [
       "54940"
      ]
     },
     "execution_count": 66,
     "metadata": {},
     "output_type": "execute_result"
    }
   ],
   "source": [
    "code"
   ]
  },
  {
   "cell_type": "markdown",
   "id": "b434f139",
   "metadata": {},
   "source": [
    "# Day 1 - Task 2"
   ]
  },
  {
   "cell_type": "code",
   "execution_count": 138,
   "id": "086cfc68",
   "metadata": {},
   "outputs": [],
   "source": [
    " def text_nums(txt):\n",
    "        txt_to_num = {\n",
    "            'one': 1,\n",
    "            'two': 2,\n",
    "            'three': 3,\n",
    "            'four': 4,\n",
    "            'five': 5,\n",
    "            'six': 6,\n",
    "            'seven': 7,\n",
    "            'eight': 8,\n",
    "            'nine': 9\n",
    "        }\n",
    "        match = re.findall(r'(?=(\\d|one|two|three|four|five|six|seven|eight|nine))', txt)\n",
    "        match = [int(m) if len(m) == 1 else txt_to_num[m] for m in match]\n",
    "        print(match)\n",
    "        match = str(match[0]) + str(match[-1])\n",
    "        return int(match)"
   ]
  },
  {
   "cell_type": "code",
   "execution_count": 139,
   "id": "bb8dfe22",
   "metadata": {},
   "outputs": [
    {
     "name": "stdout",
     "output_type": "stream",
     "text": [
      "[5, 4, 4, 9, 9]\n"
     ]
    },
    {
     "data": {
      "text/plain": [
       "59"
      ]
     },
     "execution_count": 139,
     "metadata": {},
     "output_type": "execute_result"
    }
   ],
   "source": [
    "text_nums(text)"
   ]
  },
  {
   "cell_type": "code",
   "execution_count": 1,
   "id": "66e4974c",
   "metadata": {},
   "outputs": [
    {
     "ename": "NameError",
     "evalue": "name 'text_nums' is not defined",
     "output_type": "error",
     "traceback": [
      "\u001b[1;31m---------------------------------------------------------------------------\u001b[0m",
      "\u001b[1;31mNameError\u001b[0m                                 Traceback (most recent call last)",
      "Cell \u001b[1;32mIn[1], line 6\u001b[0m\n\u001b[0;32m      4\u001b[0m \u001b[38;5;28;01mfor\u001b[39;00m i \u001b[38;5;129;01min\u001b[39;00m f\u001b[38;5;241m.\u001b[39mreadlines():\n\u001b[0;32m      5\u001b[0m     count \u001b[38;5;241m+\u001b[39m\u001b[38;5;241m=\u001b[39m \u001b[38;5;241m1\u001b[39m\n\u001b[1;32m----> 6\u001b[0m     code \u001b[38;5;241m+\u001b[39m\u001b[38;5;241m=\u001b[39m \u001b[43mtext_nums\u001b[49m(i)\n",
      "\u001b[1;31mNameError\u001b[0m: name 'text_nums' is not defined"
     ]
    }
   ],
   "source": [
    "code = 0\n",
    "with open('advent_day1_input.txt') as f:\n",
    "    count = 0\n",
    "    for i in f.readlines():\n",
    "        count += 1\n",
    "        code += text_nums(i)"
   ]
  },
  {
   "cell_type": "code",
   "execution_count": 141,
   "id": "2f27219f",
   "metadata": {},
   "outputs": [
    {
     "data": {
      "text/plain": [
       "54208"
      ]
     },
     "execution_count": 141,
     "metadata": {},
     "output_type": "execute_result"
    }
   ],
   "source": [
    "code"
   ]
  },
  {
   "cell_type": "markdown",
   "id": "1a03ce8b",
   "metadata": {},
   "source": [
    "# Day 2 - Task 1"
   ]
  },
  {
   "cell_type": "code",
   "execution_count": 61,
   "id": "81003043",
   "metadata": {},
   "outputs": [],
   "source": [
    "id_tot = 0\n",
    "def cube_game(txt):\n",
    "    red = 12\n",
    "    blue = 14\n",
    "    green = 13\n",
    "    game = int(txt.split(sep=':')[0].split()[1])\n",
    "    cubes = txt.split(': ')[1].split('; ')\n",
    "    for cube in cubes:\n",
    "        cube = cube.split(',')\n",
    "        for c in cube:\n",
    "            check = c.split()\n",
    "            if check[1] == 'green':\n",
    "                if not int(check[0]) <= green:\n",
    "                    return 0\n",
    "            elif check[1] == 'red':\n",
    "                if not int(check[0]) <= red:\n",
    "                    return 0\n",
    "            else:\n",
    "                if not int(check[0]) <= blue:\n",
    "                    return 0\n",
    "    return game\n",
    "                    "
   ]
  },
  {
   "cell_type": "code",
   "execution_count": 67,
   "id": "d5d1ffa2",
   "metadata": {},
   "outputs": [],
   "source": [
    "with open('advent_day2_input.txt') as f:\n",
    "    for i in f.readlines():\n",
    "        id_tot += cube_game(i)"
   ]
  },
  {
   "cell_type": "code",
   "execution_count": 68,
   "id": "b67e4298",
   "metadata": {},
   "outputs": [
    {
     "data": {
      "text/plain": [
       "2256"
      ]
     },
     "execution_count": 68,
     "metadata": {},
     "output_type": "execute_result"
    }
   ],
   "source": [
    "id_tot"
   ]
  },
  {
   "cell_type": "markdown",
   "id": "96ec59f2",
   "metadata": {},
   "source": [
    "# Day 2 - Task 2"
   ]
  },
  {
   "cell_type": "code",
   "execution_count": 77,
   "id": "db99fbd6",
   "metadata": {},
   "outputs": [],
   "source": [
    "power_sum = 0\n",
    "def max_cube(txt):\n",
    "    max_green = 0\n",
    "    max_blue = 0\n",
    "    max_red = 0\n",
    "    cubes = txt.split(': ')[1].split('; ')\n",
    "    for cube in cubes:\n",
    "        cube = cube.split(',')\n",
    "        for c in cube:\n",
    "            check = c.split()\n",
    "            if check[1] == 'green' and int(check[0]) > max_green:\n",
    "                max_green = int(check[0])\n",
    "            elif check[1] == 'blue' and int(check[0]) > max_blue:\n",
    "                max_blue = int(check[0])\n",
    "            elif check[1] == 'red' and int(check[0]) > max_red:\n",
    "                max_red = int(check[0])\n",
    "    return max_green * max_blue * max_red"
   ]
  },
  {
   "cell_type": "code",
   "execution_count": 80,
   "id": "3504ed5e",
   "metadata": {},
   "outputs": [],
   "source": [
    "games = 'Game 3: 8 green, 6 blue, 20 red; 5 blue, 4 red, 13 green; 5 green, 1 red'\n",
    "max_cube(games)\n",
    "with open('advent_day2_input.txt') as f:\n",
    "    for i in f.readlines():\n",
    "        power_sum += max_cube(i)"
   ]
  },
  {
   "cell_type": "code",
   "execution_count": 81,
   "id": "3a36cbf9",
   "metadata": {},
   "outputs": [
    {
     "data": {
      "text/plain": [
       "74229"
      ]
     },
     "execution_count": 81,
     "metadata": {},
     "output_type": "execute_result"
    }
   ],
   "source": [
    "power_sum"
   ]
  },
  {
   "cell_type": "markdown",
   "id": "c28c10e4",
   "metadata": {},
   "source": [
    "# Day 3 - Task 1"
   ]
  },
  {
   "cell_type": "code",
   "execution_count": 145,
   "id": "a26e0b77",
   "metadata": {},
   "outputs": [],
   "source": [
    "def part_num(txt):\n",
    "    part_sum = 0\n",
    "    for i, line in enumerate(txt):\n",
    "        val = ''\n",
    "        part = False\n",
    "        l = line.strip()\n",
    "        get_num = re.findall(r'\\d*', l)\n",
    "        nummies = list(filter(None, get_num))\n",
    "        for j, c in enumerate(l):\n",
    "            if c.isdigit():\n",
    "                val += c\n",
    "                for ii in [-1, 0, 1]:\n",
    "                    for jj in [-1, 0, 1]:\n",
    "                        try:\n",
    "                            cc = txt[i+ii][j+jj]\n",
    "                            if cc in special_chars:\n",
    "                                part = True\n",
    "                        except IndexError:\n",
    "                            continue\n",
    "            if not c.isdigit() or j == len(l)-1:\n",
    "                if part:\n",
    "                    part_sum += int(val)\n",
    "                    part = False\n",
    "                val = ''  \n",
    "    return part_sum"
   ]
  },
  {
   "cell_type": "code",
   "execution_count": 155,
   "id": "3f2fbe64",
   "metadata": {},
   "outputs": [],
   "source": [
    "parts = ['467..114..\\n',\n",
    "'...*......\\n',\n",
    "'..35..633.\\n',\n",
    "'......#...\\n',\n",
    "'617*......\\n',\n",
    "'.....+.58.\\n',\n",
    "'..592.....\\n',\n",
    "'......755.\\n',\n",
    "'...$.*....\\n',\n",
    "'.664.598..\\n']\n",
    "\n",
    "special_chars = ['*', '$', '+', '%', '&', '@', '=', '/', '-', '#']"
   ]
  },
  {
   "cell_type": "code",
   "execution_count": 147,
   "id": "334e1d3a",
   "metadata": {},
   "outputs": [
    {
     "name": "stdout",
     "output_type": "stream",
     "text": [
      "543867\n"
     ]
    }
   ],
   "source": [
    "with open('advent_day3_input.txt') as f:\n",
    "    print(part_num(f.readlines()))"
   ]
  },
  {
   "cell_type": "markdown",
   "id": "62b457e3",
   "metadata": {},
   "source": [
    "# Day 3 - Task 2"
   ]
  },
  {
   "cell_type": "code",
   "execution_count": 185,
   "id": "c3eeacae",
   "metadata": {},
   "outputs": [],
   "source": [
    "def gears(txt):\n",
    "    part_sum = 0\n",
    "    gear_ratio = 0\n",
    "    gears = collections.defaultdict(list)\n",
    "    for i, line in enumerate(txt):\n",
    "        val = ''\n",
    "        part = False\n",
    "        gear = False\n",
    "        l = line.strip()\n",
    "        for j, c in enumerate(l):\n",
    "            if c.isdigit():\n",
    "                val += c\n",
    "                for ii in [-1, 0, 1]:\n",
    "                    for jj in [-1, 0, 1]:\n",
    "                        try:\n",
    "                            cc = txt[i+ii][j+jj]\n",
    "                            if cc in special_chars:\n",
    "                                part = True\n",
    "                                if cc == '*':\n",
    "                                    gear = (i + ii, j + jj)\n",
    "                        except IndexError:\n",
    "                            continue\n",
    "            if not c.isdigit() or j == len(l) - 1:\n",
    "                if part:\n",
    "                    part_sum += int(val)\n",
    "                    part = False\n",
    "                if gear:\n",
    "                    gears[gear].append(int(val))\n",
    "                    if len(gears[gear]) == 2:\n",
    "                        gear_ratio += int(val) * gears[gear][0]\n",
    "                    gear = False\n",
    "                val = ''\n",
    "    return gear_ratio\n"
   ]
  },
  {
   "cell_type": "code",
   "execution_count": 188,
   "id": "5f9bba32",
   "metadata": {},
   "outputs": [
    {
     "name": "stdout",
     "output_type": "stream",
     "text": [
      "79613331\n"
     ]
    }
   ],
   "source": [
    "with open('advent_day3_input.txt') as f:\n",
    "    print(gears(f.readlines()))"
   ]
  },
  {
   "cell_type": "markdown",
   "id": "8f397050",
   "metadata": {},
   "source": [
    "# Day 4 - Task 1"
   ]
  },
  {
   "cell_type": "code",
   "execution_count": 189,
   "id": "3431da72",
   "metadata": {},
   "outputs": [],
   "source": [
    "cards = 'Card 1: 41 48 83 86 17 | 83 86  6 31 17  9 48 53'\n",
    "#Card 2: 13 32 20 16 61 | 61 30 68 82 17 32 24 19\n",
    "#Card 3:  1 21 53 59 44 | 69 82 63 72 16 21 14  1\n",
    "#Card 4: 41 92 73 84 69 | 59 84 76 51 58  5 54 83\n",
    "#Card 5: 87 83 26 28 32 | 88 30 70 12 93 22 82 36\n",
    "#Card 6: 31 18 13 56 72 | 74 77 10 23 35 67 36 11"
   ]
  },
  {
   "cell_type": "code",
   "execution_count": 207,
   "id": "e4de4baa",
   "metadata": {},
   "outputs": [],
   "source": [
    "def points(txt):\n",
    "    pnts = 0\n",
    "    winning_nums = txt.split(': ')[1].split(' | ')[0].split()\n",
    "    my_nums = txt.split(': ')[1].split(' | ')[1].split()\n",
    "    for num in my_nums:\n",
    "        if num in winning_nums and pnts == 0:\n",
    "            pnts = 1\n",
    "        elif num in winning_nums:\n",
    "            pnts = pnts * 2\n",
    "    return pnts"
   ]
  },
  {
   "cell_type": "code",
   "execution_count": 209,
   "id": "6320eee0",
   "metadata": {},
   "outputs": [],
   "source": [
    "pnts = 0\n",
    "with open('advent_day4_input.txt') as f:\n",
    "    for line in f.readlines():\n",
    "        pnts += points(line)"
   ]
  },
  {
   "cell_type": "code",
   "execution_count": 210,
   "id": "aba53a44",
   "metadata": {},
   "outputs": [
    {
     "data": {
      "text/plain": [
       "17803"
      ]
     },
     "execution_count": 210,
     "metadata": {},
     "output_type": "execute_result"
    }
   ],
   "source": [
    "pnts"
   ]
  },
  {
   "cell_type": "markdown",
   "id": "bf8a9ac1",
   "metadata": {},
   "source": [
    "# Day 4 - Task 2"
   ]
  },
  {
   "cell_type": "code",
   "execution_count": 226,
   "id": "e699b4ba",
   "metadata": {},
   "outputs": [],
   "source": [
    "def cards(txt):\n",
    "    m = {}\n",
    "    for i, card in enumerate(txt):\n",
    "        j = 0\n",
    "        if i not in m:\n",
    "            m[i] = 1\n",
    "        winning_nums = card.split(': ')[1].split(' | ')[0].split()\n",
    "        my_nums = card.split(': ')[1].split(' | ')[1].split()\n",
    "        for num in my_nums:\n",
    "            if num in winning_nums:\n",
    "                j += 1\n",
    "        for x in range(i + 1, i + j + 1):\n",
    "            m[x] = m.get(x, 1) + m[i]\n",
    "    return sum(m.values())   \n",
    "    "
   ]
  },
  {
   "cell_type": "code",
   "execution_count": 227,
   "id": "a4b4603f",
   "metadata": {},
   "outputs": [],
   "source": [
    "lst = ['Card 1: 41 48 83 86 17 | 83 86  6 31 17  9 48 53',\n",
    "'Card 2: 13 32 20 16 61 | 61 30 68 82 17 32 24 19',\n",
    "'Card 3:  1 21 53 59 44 | 69 82 63 72 16 21 14  1',\n",
    "'Card 4: 41 92 73 84 69 | 59 84 76 51 58  5 54 83',\n",
    "'Card 5: 87 83 26 28 32 | 88 30 70 12 93 22 82 36',\n",
    "'Card 6: 31 18 13 56 72 | 74 77 10 23 35 67 36 11']"
   ]
  },
  {
   "cell_type": "code",
   "execution_count": 230,
   "id": "47bd4133",
   "metadata": {},
   "outputs": [],
   "source": [
    "with open('advent_day4_input.txt') as f:\n",
    "    ans = cards(f.readlines())"
   ]
  },
  {
   "cell_type": "code",
   "execution_count": 231,
   "id": "22408cc9",
   "metadata": {},
   "outputs": [
    {
     "data": {
      "text/plain": [
       "5554894"
      ]
     },
     "execution_count": 231,
     "metadata": {},
     "output_type": "execute_result"
    }
   ],
   "source": [
    "ans"
   ]
  },
  {
   "cell_type": "code",
   "execution_count": null,
   "id": "272651a9",
   "metadata": {},
   "outputs": [],
   "source": []
  }
 ],
 "metadata": {
  "kernelspec": {
   "display_name": "Python 3 (ipykernel)",
   "language": "python",
   "name": "python3"
  },
  "language_info": {
   "codemirror_mode": {
    "name": "ipython",
    "version": 3
   },
   "file_extension": ".py",
   "mimetype": "text/x-python",
   "name": "python",
   "nbconvert_exporter": "python",
   "pygments_lexer": "ipython3",
   "version": "3.9.1"
  }
 },
 "nbformat": 4,
 "nbformat_minor": 5
}
